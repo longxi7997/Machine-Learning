{
 "cells": [
  {
   "cell_type": "markdown",
   "metadata": {},
   "source": [
    "### 将缩进改为 tab"
   ]
  },
  {
   "cell_type": "code",
   "execution_count": 87,
   "metadata": {},
   "outputs": [
    {
     "data": {
      "application/javascript": [
       "\n",
       "IPython.tab_as_tab_everywhere = function(use_tabs) {\n",
       "    if (use_tabs === undefined) {\n",
       "        use_tabs = true; \n",
       "    }\n",
       "\n",
       "    // apply setting to all current CodeMirror instances\n",
       "    IPython.notebook.get_cells().map(\n",
       "        function(c) {  return c.code_mirror.options.indentWithTabs=use_tabs;  }\n",
       "    );\n",
       "    // make sure new CodeMirror instances created in the future also use this setting\n",
       "    CodeMirror.defaults.indentWithTabs=use_tabs;\n",
       "\n",
       "    };\n",
       "\n",
       "IPython.tab_as_tab_everywhere()"
      ],
      "text/plain": [
       "<IPython.core.display.Javascript object>"
      ]
     },
     "metadata": {},
     "output_type": "display_data"
    }
   ],
   "source": [
    "%%javascript\n",
    "\n",
    "IPython.tab_as_tab_everywhere = function(use_tabs) {\n",
    "    if (use_tabs === undefined) {\n",
    "        use_tabs = true; \n",
    "    }\n",
    "\n",
    "    // apply setting to all current CodeMirror instances\n",
    "    IPython.notebook.get_cells().map(\n",
    "        function(c) {  return c.code_mirror.options.indentWithTabs=use_tabs;  }\n",
    "    );\n",
    "    // make sure new CodeMirror instances created in the future also use this setting\n",
    "    CodeMirror.defaults.indentWithTabs=use_tabs;\n",
    "\n",
    "    };\n",
    "\n",
    "IPython.tab_as_tab_everywhere()"
   ]
  },
  {
   "cell_type": "code",
   "execution_count": 45,
   "metadata": {},
   "outputs": [],
   "source": [
    "#-*- coding:utf-8 -*-\n",
    "\n",
    "import pandas as pd\n",
    "import numpy as np"
   ]
  },
  {
   "cell_type": "markdown",
   "metadata": {},
   "source": [
    "# 预处理\n",
    "\n",
    "### 提取 品牌为 “美的” 的评论"
   ]
  },
  {
   "cell_type": "code",
   "execution_count": 2,
   "metadata": {},
   "outputs": [
    {
     "name": "stdout",
     "output_type": "stream",
     "text": [
      "   Id    已采     已发 电商平台  品牌                                            评论  \\\n",
      "0   1  True  False   京东  AO                             挺好的 ，安装人员很负责 指的夸奖   \n",
      "1   2  True  False   京东  AO                              自己安装的，感觉蛮好。后续追加。   \n",
      "2   3  True  False   京东  AO  \\n\\nAO史密斯（A.O.Smith） ET300J-60 电热水器 60升 还没安装   \n",
      "\n",
      "                 时间                                   型号  \\\n",
      "0    2014/8/26 9:07  AO史密斯（A.O.Smith） ET300J-60 电热水器 60升   \n",
      "1  2014/10/17 14:24  AO史密斯（A.O.Smith） ET300J-60 电热水器 60升   \n",
      "2  2014/11/12 13:36  AO史密斯（A.O.Smith） ET300J-60 电热水器 60升   \n",
      "\n",
      "                                             PageUrl  \n",
      "0  http://s.club.jd.com/productpage/p-1008025-s-0...  \n",
      "1  http://s.club.jd.com/productpage/p-1008025-s-0...  \n",
      "2  http://s.club.jd.com/productpage/p-1008025-s-0...  \n",
      "                                    评论\n",
      "95898         京东商城信得过，买的放心，用的省心、安心、放心！\n",
      "95899  给公司宿舍买的，上门安装很快，快递也送的及时，不错的。给五分吧\n",
      "95900                      美的值得信赖，质量不错\n"
     ]
    }
   ],
   "source": [
    "inputfile = \"./data/huizong.csv\"\n",
    "\n",
    "data = pd.read_csv( inputfile , encoding=\"utf-8\" )\n",
    "print( data.head(3) )\n",
    "\n",
    "outputfile = \"./data/meidi_jd.txt\"\n",
    "data = data[[u\"评论\"] ][ data[u\"品牌\"] == u\"美的\" ]\n",
    "print( data.head(3) )\n",
    "\n",
    "data.to_csv( outputfile , index=False , header=False )"
   ]
  },
  {
   "cell_type": "markdown",
   "metadata": {},
   "source": [
    "### 文本去重 ：编辑距离、 Simhash 算法\n",
    "\n",
    "编辑距离：对重复性的，无意义的评论效果很好，但很容易引起误删（尤其是差评，很多评论都很相似），而且距离的阈值也不好确定。\n",
    "        特别是，两两之间计算编辑，计算量很大\n",
    "        \n",
    "SimHash：不同于传统的hash，SimHash是一种LSH(局部敏感哈希)，即语义相似的文本，hash值也相近。可以采用抽屉原理粗过滤，减少候选匹配集进行加速\n",
    "\n",
    "本文：仅删除完全相同的文本"
   ]
  },
  {
   "cell_type": "code",
   "execution_count": 3,
   "metadata": {},
   "outputs": [
    {
     "name": "stdout",
     "output_type": "stream",
     "text": [
      "                                 0\n",
      "0         京东商城信得过，买的放心，用的省心、安心、放心！\n",
      "1  给公司宿舍买的，上门安装很快，快递也送的及时，不错的。给五分吧\n",
      "2                      美的值得信赖，质量不错\n",
      "before unique length :  55400\n",
      "after  unique length :  53048\n"
     ]
    }
   ],
   "source": [
    "inputfile = \"./data/meidi_jd.txt\"\n",
    "# 去重之后\n",
    "outputfile = \"./data/meidi_jd_process_1.txt\"\n",
    "\n",
    "data = pd.read_csv( inputfile , encoding=\"utf-8\" , header=None  )\n",
    "print( data.head(3) )\n",
    "print( \"before unique length : \" , len( data ))\n",
    "data = pd.DataFrame( data[0].unique() )\n",
    "print( \"after  unique length : \" , len( data ))\n",
    "\n",
    "\n",
    "data.to_csv( outputfile , index=False , header=False , encoding=\"utf-8\" )"
   ]
  },
  {
   "cell_type": "markdown",
   "metadata": {},
   "source": [
    "### 机械压缩去词\n",
    "\n",
    "例如“非常好非常好非常好非常好。。”这种词，评论者是为了获取评论的奖励，并没有实际的意义\n",
    "或者为了强调 “感觉不错，但是实在太贵太贵太贵太贵”。这种情况一般出现在开头或者结尾\n",
    "\n",
    "所以，需要机械压缩去词"
   ]
  },
  {
   "cell_type": "code",
   "execution_count": 79,
   "metadata": {},
   "outputs": [],
   "source": [
    "# 去除连续的重复字串\n",
    "import re\n",
    "import jieba \n",
    "import pandas as pd\n",
    "def findMinmumSubstring( str ):\n",
    "    \n",
    "\tstr = str.replace( \"\\n\" , \"\")\n",
    "\tstrLen = len( str )\n",
    "\n",
    "\tpunc = re.findall(r\"[\\W]+\" , str)\n",
    "\t# print( punc )\n",
    "\n",
    "\tstr = re.findall(r\"[\\w']+\", str)\n",
    "\t# print( pd.unique(str) )\n",
    "\tuniStr = pd.unique( str )\n",
    "    \n",
    "    \n",
    "\n",
    "\t# 拼接字符串 和 标点符号\n",
    "\tresStr = \"\"\n",
    "\tfor i in uniStr:\n",
    "\t\t# print (i)\n",
    "\t\tif ( str.index(i) < len( punc ) ):\n",
    "# \t\t\tprint( punc , str.index(i) )\n",
    "\t\t\tresStr += i + punc[ str.index( i ) ]\n",
    "\t\telse:\n",
    "\t\t\tresStr += i + \" \"            \n",
    "\t# print( resStr )\n",
    "\treturn resStr"
   ]
  },
  {
   "cell_type": "code",
   "execution_count": 83,
   "metadata": {},
   "outputs": [],
   "source": [
    "inputfile = \"./data/meidi_jd_process_1.txt\"\n",
    "outputfile = \"./data/meidi_jd_process_2.txt\"\n",
    "\n",
    "data = pd.read_csv( inputfile , header=None )\n",
    "\n",
    "data = data.apply(  lambda row: findMinmumSubstring( row[0] ) , axis=1 )\n",
    "data = data.replace(\" \",\"\")\n",
    "data.to_csv( outputfile , index=False , header=False , encoding=\"utf-8\"  )\n",
    "\n",
    "data = pd.read_csv( outputfile , header=None , skip_blank_lines=True )\n",
    "data.to_csv( outputfile , index=False , header=False , encoding=\"utf-8\"  )"
   ]
  },
  {
   "cell_type": "markdown",
   "metadata": {},
   "source": [
    "### 短句删除"
   ]
  },
  {
   "cell_type": "code",
   "execution_count": 86,
   "metadata": {},
   "outputs": [
    {
     "name": "stdout",
     "output_type": "stream",
     "text": [
      "52949\n",
      "0    还行，就是耗电有点多。\n",
      "Name: 2000, dtype: object\n",
      "['还行，就是耗电有点多。']\n",
      "52856\n"
     ]
    }
   ],
   "source": [
    "inputfile = \"./data/meidi_jd_process_2.txt\"\n",
    "outputfile = \"./data/meidi_jd_process_3.txt\"\n",
    "\n",
    "data = pd.read_csv( inputfile , header=None )\n",
    "\n",
    "print( data.size )\n",
    "\n",
    "print( data.loc[2000] )\n",
    "data = np.array( data )\n",
    "\n",
    "print( data[2000] )\n",
    "resData = [ i[0] for i in data if len(i[0]) >3 ]\n",
    "\n",
    "print( pd.DataFrame( resData ).size )\n",
    "pd.DataFrame( resData ).to_csv( outputfile , index=False , header=False , encoding=\"utf-8\" )\n"
   ]
  },
  {
   "cell_type": "markdown",
   "metadata": {},
   "source": [
    "### 文本评论分词"
   ]
  },
  {
   "cell_type": "code",
   "execution_count": null,
   "metadata": {},
   "outputs": [],
   "source": []
  },
  {
   "cell_type": "code",
   "execution_count": null,
   "metadata": {},
   "outputs": [],
   "source": []
  },
  {
   "cell_type": "code",
   "execution_count": null,
   "metadata": {},
   "outputs": [],
   "source": []
  },
  {
   "cell_type": "markdown",
   "metadata": {},
   "source": [
    "# 模型构建"
   ]
  },
  {
   "cell_type": "markdown",
   "metadata": {},
   "source": [
    "### One Hot \n",
    "### Distributed Representation"
   ]
  },
  {
   "cell_type": "code",
   "execution_count": null,
   "metadata": {},
   "outputs": [],
   "source": []
  },
  {
   "cell_type": "code",
   "execution_count": null,
   "metadata": {},
   "outputs": [],
   "source": []
  }
 ],
 "metadata": {
  "kernelspec": {
   "display_name": "Python 3",
   "language": "python",
   "name": "python3"
  },
  "language_info": {
   "codemirror_mode": {
    "name": "ipython",
    "version": 3
   },
   "file_extension": ".py",
   "mimetype": "text/x-python",
   "name": "python",
   "nbconvert_exporter": "python",
   "pygments_lexer": "ipython3",
   "version": "3.6.4"
  }
 },
 "nbformat": 4,
 "nbformat_minor": 2
}
